{
  "nbformat": 4,
  "nbformat_minor": 0,
  "metadata": {
    "colab": {
      "name": "modern_hebrew_pre_process.ipynb",
      "provenance": [],
      "collapsed_sections": [],
      "toc_visible": true
    },
    "kernelspec": {
      "display_name": "Python 3",
      "name": "python3"
    }
  },
  "cells": [
    {
      "cell_type": "markdown",
      "metadata": {
        "id": "jHjpnh7rdXjV"
      },
      "source": [
        "# Historical style generator\n",
        "##### Students – Leor Ariel Rose, Yahav Bar David\n",
        "##### Academic advisor - Dr. Irina Rabaev\n",
        "\n",
        "This notebook contains our modern hebrew pre process."
      ]
    },
    {
      "cell_type": "markdown",
      "metadata": {
        "id": "GLRvTQAqGp1n"
      },
      "source": [
        "First we will import all necessary libraries\n",
        "\n"
      ]
    },
    {
      "cell_type": "code",
      "metadata": {
        "id": "VWLJ7RrVdY59"
      },
      "source": [
        "import os\n",
        "import shutil\n",
        "import cv2 as cv\n",
        "import numpy as np\n",
        "import PIL\n",
        "from tqdm import tqdm\n",
        "from typing import List\n",
        "from google.colab import drive\n",
        "from google.colab.patches import cv2_imshow\n",
        "from IPython.display import clear_output"
      ],
      "execution_count": null,
      "outputs": []
    },
    {
      "cell_type": "markdown",
      "metadata": {
        "id": "l-og0jVmd5hO"
      },
      "source": [
        "Next lets mount our drive with our data and folders to save"
      ]
    },
    {
      "cell_type": "code",
      "metadata": {
        "id": "PZe2pBYxd_da",
        "outputId": "c24b8791-869d-4c52-997f-5165d85eb9ce",
        "colab": {
          "base_uri": "https://localhost:8080/",
          "height": 34
        }
      },
      "source": [
        "drive.mount('/content/drive')"
      ],
      "execution_count": null,
      "outputs": [
        {
          "output_type": "stream",
          "text": [
            "Mounted at /content/drive\n"
          ],
          "name": "stdout"
        }
      ]
    },
    {
      "cell_type": "markdown",
      "metadata": {
        "id": "DRIjYTq7dmWo"
      },
      "source": [
        "Next will define our paths"
      ]
    },
    {
      "cell_type": "code",
      "metadata": {
        "id": "nE9uD9nDdsWZ"
      },
      "source": [
        "hebrew_modern_data = \"/content/drive/My Drive/final_project/raw_data/modern_hebrew\"\n",
        "hebrew_clean_modern_data_documents = \"/content/drive/My Drive/final_project/clean_data/modern_hebrew/documents\"\n",
        "hebrew_clean_modern_data_sentences = \"/content/drive/My Drive/final_project/clean_data/modern_hebrew/sentences\""
      ],
      "execution_count": null,
      "outputs": []
    },
    {
      "cell_type": "markdown",
      "metadata": {
        "id": "qEfCekNZepEX"
      },
      "source": [
        "Now we will empty our previous preprocessed documents"
      ]
    },
    {
      "cell_type": "code",
      "metadata": {
        "id": "J95mGOVieoNN"
      },
      "source": [
        "# empty old clean data\n",
        "if os.path.exists(hebrew_clean_modern_data_documents):\n",
        "    shutil.rmtree(hebrew_clean_modern_data_documents)\n",
        "    \n",
        "os.mkdir(hebrew_clean_modern_data_documents)"
      ],
      "execution_count": null,
      "outputs": []
    },
    {
      "cell_type": "markdown",
      "metadata": {
        "id": "4npcQ1HHeptx"
      },
      "source": [
        "Next we will pre process modern hebrew data to create document images.\n",
        "For documents - images need to be rotated, croped, remove from yellow lines and change type to png."
      ]
    },
    {
      "cell_type": "code",
      "metadata": {
        "id": "LjUdgzJSeqJR",
        "outputId": "841dc839-8a06-40c9-f31a-16afc83c9b5b",
        "colab": {
          "base_uri": "https://localhost:8080/",
          "height": 1000
        }
      },
      "source": [
        "problamatic_files: List[str] = []\n",
        "\n",
        "# clean each image in modern hebrew folder\n",
        "for img_file in tqdm(os.listdir(hebrew_modern_data), position=0, leave=True):\n",
        "  img_name: str\n",
        "  img_type: str\n",
        "  img_name, img_type = os.path.splitext(img_file)\n",
        "                \n",
        "  # full path of image\n",
        "  img_full_path: str = hebrew_modern_data + \"/\" + img_file\n",
        "                \n",
        "  # path to save finished processed image\n",
        "  img_new_full_path: str = hebrew_clean_modern_data_documents + \"/\" + img_name + '.png'\n",
        "\n",
        "  # step 1 - open image\n",
        "  img: np.ndarray = cv.imread(img_full_path)\n",
        "  \n",
        "  if img is not None: \n",
        "    # step 2 - rotate image\n",
        "    img = cv.rotate(img, rotateCode = cv.ROTATE_180)\n",
        "\n",
        "    # step 3 - crop image\n",
        "    start_x:int = 360\n",
        "    start_y:int = 1990\n",
        "    width:int = 4000\n",
        "    height:int = 2800\n",
        "    img = img[start_y:start_y + height, start_x:start_x + width]\n",
        "\n",
        "    # step 4 - remove yellow pixels\n",
        "      \n",
        "    # Convert BGR image to HSV\n",
        "    hsv = cv.cvtColor(img, cv.COLOR_BGR2HSV)\n",
        "\n",
        "    # define range of yellow color in HSV\n",
        "    lower_yellow = np.array([20,10,10])\n",
        "    upper_yellow = np.array([40,255,255])\n",
        "\n",
        "    # Threshold the HSV image to get only yellow colors\n",
        "    mask = cv.inRange(hsv, lower_yellow, upper_yellow)\n",
        "\n",
        "    #background to put instead of yellow\n",
        "    background = np.full(img.shape, 255, dtype=np.uint8)\n",
        "    \n",
        "    # biwise or is performed only in the region of mask, all other values will be set to black in the output\n",
        "    bk = cv.bitwise_or(background, background, mask=mask)\n",
        "\n",
        "    # combine foreground+background\n",
        "    img = cv.bitwise_or(img, bk)\n",
        "\n",
        "    # step 5 - save image as png\n",
        "    cv.imwrite(img_new_full_path, cv.cvtColor(img, cv.COLOR_BGR2GRAY))\n",
        "  \n",
        "  else:\n",
        "    problamatic_files.append(img_full_path)\n",
        "\n",
        "\n",
        "print(f\"{len(problamatic_files)} out of {len(os.listdir(hebrew_modern_data))} file couldnt be preprocessed. files are:\")\n",
        "for file_name in problamatic_files:\n",
        "  print(file_name)"
      ],
      "execution_count": null,
      "outputs": [
        {
          "output_type": "stream",
          "text": [
            "100%|██████████| 466/466 [18:48<00:00,  2.42s/it]"
          ],
          "name": "stderr"
        },
        {
          "output_type": "stream",
          "text": [
            "71 out of 466 file couldnt be preprocessed. files are:\n",
            "/content/drive/My Drive/final_project/raw_data/modern_hebrew/BRN3C2AF4AEB56C_0000000016.tif\n",
            "/content/drive/My Drive/final_project/raw_data/modern_hebrew/BRN3C2AF4AEB56C_0000000017.tif\n",
            "/content/drive/My Drive/final_project/raw_data/modern_hebrew/BRN3C2AF4AEB56C_0000000018.tif\n",
            "/content/drive/My Drive/final_project/raw_data/modern_hebrew/BRN3C2AF4AEB56C_0000000019.tif\n",
            "/content/drive/My Drive/final_project/raw_data/modern_hebrew/BRN3C2AF4AEB56C_0000000021.tif\n",
            "/content/drive/My Drive/final_project/raw_data/modern_hebrew/BRN3C2AF4AEB56C_0000000020.tif\n",
            "/content/drive/My Drive/final_project/raw_data/modern_hebrew/BRN3C2AF4AEB56C_0000000022.tif\n",
            "/content/drive/My Drive/final_project/raw_data/modern_hebrew/BRN3C2AF4AEB56C_0000000023.tif\n",
            "/content/drive/My Drive/final_project/raw_data/modern_hebrew/BRN3C2AF4AEB56C_0000000085.tif\n",
            "/content/drive/My Drive/final_project/raw_data/modern_hebrew/BRN3C2AF4AEB56C_0000000080.tif\n",
            "/content/drive/My Drive/final_project/raw_data/modern_hebrew/BRN3C2AF4AEB56C_0000000083.tif\n",
            "/content/drive/My Drive/final_project/raw_data/modern_hebrew/BRN3C2AF4AEB56C_0000000081.tif\n",
            "/content/drive/My Drive/final_project/raw_data/modern_hebrew/BRN3C2AF4AEB56C_0000000084.tif\n",
            "/content/drive/My Drive/final_project/raw_data/modern_hebrew/BRN3C2AF4AEB56C_0000000082.tif\n",
            "/content/drive/My Drive/final_project/raw_data/modern_hebrew/BRN3C2AF4AEB56C_0000000078.tif\n",
            "/content/drive/My Drive/final_project/raw_data/modern_hebrew/BRN3C2AF4AEB56C_0000000076.tif\n",
            "/content/drive/My Drive/final_project/raw_data/modern_hebrew/BRN3C2AF4AEB56C_0000000079.tif\n",
            "/content/drive/My Drive/final_project/raw_data/modern_hebrew/BRN3C2AF4AEB56C_0000000077.tif\n",
            "/content/drive/My Drive/final_project/raw_data/modern_hebrew/BRN3C2AF4AEB56C_0000000075.tif\n",
            "/content/drive/My Drive/final_project/raw_data/modern_hebrew/BRN3C2AF4AEB56C_0000000074.tif\n",
            "/content/drive/My Drive/final_project/raw_data/modern_hebrew/BRN3C2AF4AEB56C_0000000073.tif\n",
            "/content/drive/My Drive/final_project/raw_data/modern_hebrew/BRN3C2AF4AEB56C_0000000072.tif\n",
            "/content/drive/My Drive/final_project/raw_data/modern_hebrew/BRN3C2AF4AEB56C_0000000071.tif\n",
            "/content/drive/My Drive/final_project/raw_data/modern_hebrew/BRN3C2AF4AEB56C_0000000067.tif\n",
            "/content/drive/My Drive/final_project/raw_data/modern_hebrew/BRN3C2AF4AEB56C_0000000069.tif\n",
            "/content/drive/My Drive/final_project/raw_data/modern_hebrew/BRN3C2AF4AEB56C_0000000065.tif\n",
            "/content/drive/My Drive/final_project/raw_data/modern_hebrew/BRN3C2AF4AEB56C_0000000064.tif\n",
            "/content/drive/My Drive/final_project/raw_data/modern_hebrew/BRN3C2AF4AEB56C_0000000062.tif\n",
            "/content/drive/My Drive/final_project/raw_data/modern_hebrew/BRN3C2AF4AEB56C_0000000063.tif\n",
            "/content/drive/My Drive/final_project/raw_data/modern_hebrew/BRN3C2AF4AEB56C_0000000061.tif\n",
            "/content/drive/My Drive/final_project/raw_data/modern_hebrew/BRN3C2AF4AEB56C_0000000070.tif\n",
            "/content/drive/My Drive/final_project/raw_data/modern_hebrew/BRN3C2AF4AEB56C_0000000068.tif\n",
            "/content/drive/My Drive/final_project/raw_data/modern_hebrew/BRN3C2AF4AEB56C_0000000066.tif\n",
            "/content/drive/My Drive/final_project/raw_data/modern_hebrew/BRN3C2AF4AEB56C_0000000060.tif\n",
            "/content/drive/My Drive/final_project/raw_data/modern_hebrew/BRN3C2AF4AEB56C_0000000056.tif\n",
            "/content/drive/My Drive/final_project/raw_data/modern_hebrew/BRN3C2AF4AEB56C_0000000058.tif\n",
            "/content/drive/My Drive/final_project/raw_data/modern_hebrew/BRN3C2AF4AEB56C_0000000057.tif\n",
            "/content/drive/My Drive/final_project/raw_data/modern_hebrew/BRN3C2AF4AEB56C_0000000059.tif\n",
            "/content/drive/My Drive/final_project/raw_data/modern_hebrew/BRN3C2AF4AEB56C_0000000055.tif\n",
            "/content/drive/My Drive/final_project/raw_data/modern_hebrew/BRN3C2AF4AEB56C_0000000054.tif\n",
            "/content/drive/My Drive/final_project/raw_data/modern_hebrew/BRN3C2AF4AEB56C_0000000050.tif\n",
            "/content/drive/My Drive/final_project/raw_data/modern_hebrew/BRN3C2AF4AEB56C_0000000052.tif\n",
            "/content/drive/My Drive/final_project/raw_data/modern_hebrew/BRN3C2AF4AEB56C_0000000049.tif\n",
            "/content/drive/My Drive/final_project/raw_data/modern_hebrew/BRN3C2AF4AEB56C_0000000051.tif\n",
            "/content/drive/My Drive/final_project/raw_data/modern_hebrew/BRN3C2AF4AEB56C_0000000053.tif\n",
            "/content/drive/My Drive/final_project/raw_data/modern_hebrew/BRN3C2AF4AEB56C_0000000048.tif\n",
            "/content/drive/My Drive/final_project/raw_data/modern_hebrew/BRN3C2AF4AEB56C_0000000044.tif\n",
            "/content/drive/My Drive/final_project/raw_data/modern_hebrew/BRN3C2AF4AEB56C_0000000045.tif\n",
            "/content/drive/My Drive/final_project/raw_data/modern_hebrew/BRN3C2AF4AEB56C_0000000046.tif\n",
            "/content/drive/My Drive/final_project/raw_data/modern_hebrew/BRN3C2AF4AEB56C_0000000042.tif\n",
            "/content/drive/My Drive/final_project/raw_data/modern_hebrew/BRN3C2AF4AEB56C_0000000047.tif\n",
            "/content/drive/My Drive/final_project/raw_data/modern_hebrew/BRN3C2AF4AEB56C_0000000043.tif\n",
            "/content/drive/My Drive/final_project/raw_data/modern_hebrew/BRN3C2AF4AEB56C_0000000040.tif\n",
            "/content/drive/My Drive/final_project/raw_data/modern_hebrew/BRN3C2AF4AEB56C_0000000041.tif\n",
            "/content/drive/My Drive/final_project/raw_data/modern_hebrew/BRN3C2AF4AEB56C_0000000039.tif\n",
            "/content/drive/My Drive/final_project/raw_data/modern_hebrew/BRN3C2AF4AEB56C_0000000038.tif\n",
            "/content/drive/My Drive/final_project/raw_data/modern_hebrew/BRN3C2AF4AEB56C_0000000037.tif\n",
            "/content/drive/My Drive/final_project/raw_data/modern_hebrew/BRN3C2AF4AEB56C_0000000036.tif\n",
            "/content/drive/My Drive/final_project/raw_data/modern_hebrew/BRN3C2AF4AEB56C_0000000034.tif\n",
            "/content/drive/My Drive/final_project/raw_data/modern_hebrew/BRN3C2AF4AEB56C_0000000033.tif\n",
            "/content/drive/My Drive/final_project/raw_data/modern_hebrew/BRN3C2AF4AEB56C_0000000035.tif\n",
            "/content/drive/My Drive/final_project/raw_data/modern_hebrew/BRN3C2AF4AEB56C_0000000032.tif\n",
            "/content/drive/My Drive/final_project/raw_data/modern_hebrew/BRN3C2AF4AEB56C_0000000031.tif\n",
            "/content/drive/My Drive/final_project/raw_data/modern_hebrew/BRN3C2AF4AEB56C_0000000030.tif\n",
            "/content/drive/My Drive/final_project/raw_data/modern_hebrew/BRN3C2AF4AEB56C_0000000028.tif\n",
            "/content/drive/My Drive/final_project/raw_data/modern_hebrew/BRN3C2AF4AEB56C_0000000029.tif\n",
            "/content/drive/My Drive/final_project/raw_data/modern_hebrew/BRN3C2AF4AEB56C_0000000024.tif\n",
            "/content/drive/My Drive/final_project/raw_data/modern_hebrew/BRN3C2AF4AEB56C_0000000027.tif\n",
            "/content/drive/My Drive/final_project/raw_data/modern_hebrew/BRN3C2AF4AEB56C_0000000025.tif\n",
            "/content/drive/My Drive/final_project/raw_data/modern_hebrew/BRN3C2AF4AEB56C_0000000026.tif\n",
            "/content/drive/My Drive/final_project/raw_data/modern_hebrew/BRN3C2AF4AEB56C_0000000015.tif\n"
          ],
          "name": "stdout"
        },
        {
          "output_type": "stream",
          "text": [
            "\n"
          ],
          "name": "stderr"
        }
      ]
    },
    {
      "cell_type": "markdown",
      "metadata": {
        "id": "vTX36BWfGvfo"
      },
      "source": [
        "Now we will empty our previous preprocessed documents and sentences"
      ]
    },
    {
      "cell_type": "code",
      "metadata": {
        "id": "P17QSPdwGv_q"
      },
      "source": [
        "if os.path.exists(hebrew_clean_modern_data_sentences):\n",
        "    shutil.rmtree(hebrew_clean_modern_data_sentences)\n",
        "  \n",
        "os.mkdir(hebrew_clean_modern_data_sentences)"
      ],
      "execution_count": null,
      "outputs": []
    },
    {
      "cell_type": "markdown",
      "metadata": {
        "id": "YtQhfvkoV5Mr"
      },
      "source": [
        "Next we will pre process modern hebrew data to create  sentences images. \n",
        "For sentences - images need to be rotated, croped by yellow lines, remove from yellow lines and change type to png. because the start cropped position changes this need to be an input for each image (total of 466 images):"
      ]
    },
    {
      "cell_type": "code",
      "metadata": {
        "id": "-tc5NfFMG2zm",
        "outputId": "7644ead0-b5bd-4f29-a421-8b63f95042e7",
        "colab": {
          "base_uri": "https://localhost:8080/",
          "height": 67
        }
      },
      "source": [
        "problamatic_files: List[str] = []\n",
        "\n",
        "# create sentences from each image in modern hebrew folder\n",
        "for img_file in tqdm(os.listdir(hebrew_modern_data), position=0, leave=True):\n",
        "  img_name: str\n",
        "  img_type: str\n",
        "  img_name, img_type = os.path.splitext(img_file)\n",
        "                \n",
        "  # full path of image\n",
        "  img_full_path: str = hebrew_modern_data + \"/\" + img_file\n",
        "                \n",
        "  # step 1 - open image\n",
        "  img: np.ndarray = cv.imread(img_full_path)\n",
        "  \n",
        "  if img is not None:\n",
        "    \n",
        "    # step 2 - rotate image\n",
        "    img = cv.rotate(img, rotateCode = cv.ROTATE_180)\n",
        "\n",
        "    # step 3 - crop image\n",
        "    start_x:int = 360\n",
        "    start_y:int = 1990\n",
        "    width:int = 4000\n",
        "    height:int = 2800\n",
        "    img = img[start_y:start_y + height, start_x:start_x + width]\n",
        "\n",
        "    # get cropped image dimensions\n",
        "    img_height, img_width, _ = img.shape\n",
        "\n",
        "    # step 4 - remove yellow pixels\n",
        "    # Convert BGR image to HSV\n",
        "    hsv = cv.cvtColor(img, cv.COLOR_BGR2HSV)\n",
        "\n",
        "    # define range of yellow color in HSV\n",
        "    lower_yellow = np.array([20,10,10])\n",
        "    upper_yellow = np.array([40,255,255])\n",
        "\n",
        "    # Threshold the HSV image to get only yellow colors\n",
        "    mask = cv.inRange(hsv, lower_yellow, upper_yellow)\n",
        "\n",
        "    #background to put instead of yellow\n",
        "    background = np.full(img.shape, 255, dtype=np.uint8)\n",
        "    \n",
        "    # biwise or is performed only in the region of mask, all other values will be set to black in the output\n",
        "    bk = cv.bitwise_or(background, background, mask=mask)\n",
        "\n",
        "    # combine foreground+background\n",
        "    img = cv.bitwise_or(img, bk)\n",
        "\n",
        "    # step 5 - crop lines\n",
        "    try_again: int = 0\n",
        "    crop_list: List[np.ndarray] = []\n",
        "    gap: int = 230\n",
        "    # show image to user to help crop guess start_y position \n",
        "    cv2_imshow(img)\n",
        "    # while user wants to guess a different start_y\n",
        "    while not try_again:\n",
        "      # guess start_y\n",
        "      y_start = int(input(\"stary_y: \"))\n",
        "      # crop image into sentences by gap and start_y guess\n",
        "      while y_start + gap < img_height:\n",
        "        temp_img = img[y_start: y_start + gap, :]\n",
        "        # test if image contains text\n",
        "        if np.mean(temp_img) <= 253:\n",
        "          # add to crop list\n",
        "          crop_list.append(temp_img)\n",
        "          # show croped image for user to evaluate\n",
        "          cv2_imshow(cv.cvtColor(img[y_start: y_start + gap, :], cv.COLOR_BGR2GRAY))\n",
        "          # seperate croped images\n",
        "          print(\"next\")\n",
        "        # continue to next crop\n",
        "        y_start += gap\n",
        "\n",
        "      # ask user if he is satisfied or to try again\n",
        "      try_again = int(input(\"save (1=yes, 0=try again): \"))\n",
        "      \n",
        "\n",
        "    # create folder for sentences\n",
        "    os.mkdir(f\"{hebrew_clean_modern_data_sentences}/{img_name}\")\n",
        "\n",
        "    # save images\n",
        "    for index, temp_img in enumerate(crop_list):\n",
        "      # save crop image in its folder\n",
        "      cv.imwrite(f\"{hebrew_clean_modern_data_sentences}/{img_name}/{index}.png\", cv.cvtColor(temp_img, cv.COLOR_BGR2GRAY))\n",
        "    \n",
        "    # clear output for next image\n",
        "    clear_output(wait=True)\n",
        "  \n",
        "  else:\n",
        "    problamatic_files.append(img_full_path)\n",
        "\n",
        "\n",
        "print(f\"{len(problamatic_files)} out of {len(os.listdir(hebrew_modern_data))} file couldnt be preprocessed. files are:\")\n",
        "for file_name in problamatic_files:\n",
        "  print(file_name)"
      ],
      "execution_count": null,
      "outputs": [
        {
          "output_type": "stream",
          "text": [
            "100%|██████████| 130/130 [1:04:57<00:00, 29.98s/it]"
          ],
          "name": "stderr"
        },
        {
          "output_type": "stream",
          "text": [
            "1 out of 466 file couldnt be preprocessed. files are:\n",
            "/content/drive/My Drive/final_project/raw_data/modern_hebrew/BRN3C2AF4AEB56C_0000000015.tif\n"
          ],
          "name": "stdout"
        },
        {
          "output_type": "stream",
          "text": [
            "\n"
          ],
          "name": "stderr"
        }
      ]
    }
  ]
}