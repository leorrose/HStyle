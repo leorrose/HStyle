{
  "nbformat": 4,
  "nbformat_minor": 0,
  "metadata": {
    "colab": {
      "name": "modern_english_pre_process.ipynb",
      "provenance": [],
      "collapsed_sections": [],
      "toc_visible": true
    },
    "kernelspec": {
      "display_name": "Python 3",
      "name": "python3"
    }
  },
  "cells": [
    {
      "cell_type": "markdown",
      "metadata": {
        "id": "jHjpnh7rdXjV"
      },
      "source": [
        "# Historical style generator\n",
        "##### Students – Leor Ariel Rose, Yahav Bar David\n",
        "##### Academic advisor - Dr. Irina Rabaev\n",
        "\n",
        "This notebook contains our modern english pre process."
      ]
    },
    {
      "cell_type": "markdown",
      "metadata": {
        "id": "GLRvTQAqGp1n"
      },
      "source": [
        "Next we will import all necessary libraries\n",
        "\n"
      ]
    },
    {
      "cell_type": "code",
      "metadata": {
        "id": "VWLJ7RrVdY59"
      },
      "source": [
        "import os\n",
        "import shutil\n",
        "import cv2 as cv\n",
        "import numpy as np\n",
        "from tqdm import tqdm\n",
        "from typing import List\n",
        "from google.colab import drive"
      ],
      "execution_count": 1,
      "outputs": []
    },
    {
      "cell_type": "markdown",
      "metadata": {
        "id": "l-og0jVmd5hO"
      },
      "source": [
        "Next lets mount our drive with our data and folders to save"
      ]
    },
    {
      "cell_type": "code",
      "metadata": {
        "id": "PZe2pBYxd_da",
        "outputId": "8840a067-aa93-4fa4-cd32-ddd0da7c32ab",
        "colab": {
          "base_uri": "https://localhost:8080/",
          "height": 34
        }
      },
      "source": [
        "drive.mount('/content/drive')"
      ],
      "execution_count": 2,
      "outputs": [
        {
          "output_type": "stream",
          "text": [
            "Mounted at /content/drive\n"
          ],
          "name": "stdout"
        }
      ]
    },
    {
      "cell_type": "markdown",
      "metadata": {
        "id": "DRIjYTq7dmWo"
      },
      "source": [
        "Next will define our paths"
      ]
    },
    {
      "cell_type": "code",
      "metadata": {
        "id": "nE9uD9nDdsWZ"
      },
      "source": [
        "english_modern_data_documents = \"/content/drive/My Drive/final_project/raw_data/modern_english/documents\"\n",
        "english_modern_data_sentences = \"/content/drive/My Drive/final_project/raw_data/modern_english/sentences\"\n",
        "english_clean_modern_data_documents = \"/content/drive/My Drive/final_project/clean_data/modern_english/documents\"\n",
        "english_clean_modern_data_sentences = \"/content/drive/My Drive/final_project/clean_data/modern_english/sentences\""
      ],
      "execution_count": 3,
      "outputs": []
    },
    {
      "cell_type": "markdown",
      "metadata": {
        "id": "qEfCekNZepEX"
      },
      "source": [
        "Now we will empty our previous preprocessed documents"
      ]
    },
    {
      "cell_type": "code",
      "metadata": {
        "id": "J95mGOVieoNN"
      },
      "source": [
        "# empty old clean data\n",
        "if os.path.exists(english_clean_modern_data_documents):\n",
        "    shutil.rmtree(english_clean_modern_data_documents)\n",
        "    \n",
        "os.mkdir(english_clean_modern_data_documents)"
      ],
      "execution_count": null,
      "outputs": []
    },
    {
      "cell_type": "markdown",
      "metadata": {
        "id": "4npcQ1HHeptx"
      },
      "source": [
        "Next we will pre process modern english data to create document images.\n",
        "For documents - images need to be cropted and change type to png."
      ]
    },
    {
      "cell_type": "code",
      "metadata": {
        "id": "LjUdgzJSeqJR"
      },
      "source": [
        "# clean each image in modern english folder\n",
        "for img_file in tqdm(os.listdir(english_modern_data_documents)):\n",
        "    img_name:str\n",
        "    img_type:str\n",
        "    img_name, img_type = os.path.splitext(img_file)\n",
        "                \n",
        "    # full path of image\n",
        "    img_full_path:str = f\"{english_modern_data_documents}/{img_file}\"\n",
        "                \n",
        "    # path to save finished processed image\n",
        "    img_new_full_path:str = f\"{english_clean_modern_data_documents}/{imgName}.png\"\n",
        "\n",
        "    # step 1 - open image\n",
        "    img: np.ndarray = cv.imread(img_full_path)\n",
        "    \n",
        "    # step 2 - crop image\n",
        "    start_x:int = 250\n",
        "    start_y:int = 700\n",
        "    width:int = 2220\n",
        "    height:int = 2100\n",
        "    img = img[start_y:start_y + height, start_x:start_x + width]\n",
        "\n",
        "    # save image as png\n",
        "    cv.imwrite(img_new_full_path, img)"
      ],
      "execution_count": null,
      "outputs": []
    },
    {
      "cell_type": "markdown",
      "metadata": {
        "id": "ywQw7zvk-qRw"
      },
      "source": [
        "Now we will empty our previous preprocessed sentences"
      ]
    },
    {
      "cell_type": "code",
      "metadata": {
        "id": "uL7-1BIF-qfw"
      },
      "source": [
        "if os.path.exists(english_clean_modern_data_sentences):\n",
        "    shutil.rmtree(english_clean_modern_data_sentences)"
      ],
      "execution_count": 7,
      "outputs": []
    },
    {
      "cell_type": "markdown",
      "metadata": {
        "id": "YtQhfvkoV5Mr"
      },
      "source": [
        "No need to preprocess modern english sentences only copy the folder to clean data folder."
      ]
    },
    {
      "cell_type": "code",
      "metadata": {
        "id": "tqfnJNgCKPDt",
        "outputId": "6bdaa606-2179-4694-8e7e-ca959b6a6246",
        "colab": {
          "base_uri": "https://localhost:8080/",
          "height": 35
        }
      },
      "source": [
        "shutil.copytree(english_modern_data_sentences, english_clean_modern_data_sentences)"
      ],
      "execution_count": 8,
      "outputs": [
        {
          "output_type": "execute_result",
          "data": {
            "application/vnd.google.colaboratory.intrinsic+json": {
              "type": "string"
            },
            "text/plain": [
              "'/content/drive/My Drive/final_project/clean_data/modern_english/sentences'"
            ]
          },
          "metadata": {
            "tags": []
          },
          "execution_count": 8
        }
      ]
    }
  ]
}