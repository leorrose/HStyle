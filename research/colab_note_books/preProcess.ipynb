{
 "metadata": {
  "language_info": {
   "codemirror_mode": {
    "name": "ipython",
    "version": 3
   },
   "file_extension": ".py",
   "mimetype": "text/x-python",
   "name": "python",
   "nbconvert_exporter": "python",
   "pygments_lexer": "ipython3",
   "version": "3.8.5-final"
  },
  "orig_nbformat": 2,
  "kernelspec": {
   "name": "python_defaultSpec_1600546446001",
   "display_name": "Python 3.8.5 64-bit ('env': venv)"
  }
 },
 "nbformat": 4,
 "nbformat_minor": 2,
 "cells": [
  {
   "source": [
    "This notebook is to pre process the datasets we have. all data is in the form of images(.tiff, .jpeg, .png, .pdf and more). \n",
    "This is not part of our service or end result and after we have clean data we will not need it anymore because of that its a jupyter notebook for simplicity."
   ],
   "cell_type": "markdown",
   "metadata": {}
  },
  {
   "source": [
    "First we import all necessary modules:"
   ],
   "cell_type": "markdown",
   "metadata": {}
  },
  {
   "cell_type": "code",
   "execution_count": 25,
   "metadata": {
    "tags": []
   },
   "outputs": [],
   "source": [
    "import os\n",
    "import shutil\n",
    "import cv2 as cv\n",
    "import numpy as np\n",
    "import tqdm\n",
    "from typing import List\n",
    "from PIL import Image, UnidentifiedImageError"
   ]
  },
  {
   "source": [
    "Next we will set global paths to each folder of data we need to pre process:"
   ],
   "cell_type": "markdown",
   "metadata": {}
  },
  {
   "cell_type": "code",
   "execution_count": 26,
   "metadata": {
    "tags": []
   },
   "outputs": [],
   "source": [
    "preProcessFolder = os.getcwd()\n",
    "\n",
    "arabHistorical = preProcessFolder + '/raw-data/arab'\n",
    "arabModern = preProcessFolder + '/raw-data/modernArab'\n",
    "englishModern = preProcessFolder + '/raw-data/modernEnglish'\n",
    "hebrewCairoGeniza = preProcessFolder + '/raw-data/hebrewCairoGeniza'\n",
    "hebrewMiddleAges = preProcessFolder + '/raw-data/hebrewMiddleAges'\n",
    "hebrewModern = preProcessFolder + '/raw-data/modernHebrew'\n",
    "latinHistorical = preProcessFolder + '/raw-data/latin'"
   ]
  },
  {
   "source": [
    "Next we declare few helper functions:"
   ],
   "cell_type": "markdown",
   "metadata": {}
  },
  {
   "cell_type": "code",
   "execution_count": 27,
   "metadata": {},
   "outputs": [],
   "source": [
    "def cropImage(img:Image.Image, start_x:int, start_y:int, width:int, height:int) -> Image.Image:\n",
    "    \"\"\"\n",
    "    Method to crop image and save cropped image\n",
    "\n",
    "    Args:\n",
    "        img (Image.Image): the image\n",
    "        start_x (int): where to start crop by x axis - must be positive\n",
    "        start_y (int): where to start crop by y axis - must be positive\n",
    "        width (int): width of crop from start_x - must be positive\n",
    "        height (int): height of crop from start_y - must be positive\n",
    "\n",
    "    Raises:\n",
    "        ValueError: if one of the parameters are negative or image crop is not in image range\n",
    "    \"\"\"\n",
    "    \n",
    "    # test image crop is in image range\n",
    "    imgWidth, imgHeight = img.size\n",
    "\n",
    "    if start_x < 0 or start_y < 0 or width < 0  or height < 0:\n",
    "        raise ValueError(\"start_x, start_y, width, height must be positive\")\n",
    "    if start_x + width > imgWidth:\n",
    "        raise ValueError(f\"{start_x + width} is bigger than image width\")\n",
    "    if start_y + height > imgHeight:\n",
    "        raise ValueError(f\"{start_y + height} is bigger than image height\")\n",
    "\n",
    "    # crop image\n",
    "    return img.crop((start_x, start_y, start_x + width, start_y + height))"
   ]
  },
  {
   "cell_type": "code",
   "execution_count": 28,
   "metadata": {},
   "outputs": [],
   "source": [
    "def rotateImage(img:Image.Image, angle:int) -> Image.Image:\n",
    "    \"\"\"\n",
    "    Method to rotate image and save rotateed image\n",
    "\n",
    "    Args:\n",
    "        img (Image.Image): the image\n",
    "        angle (int): the angle to rotate - must be positive\n",
    "\n",
    "    Raises:\n",
    "        ValueError: if angle is negative\n",
    "    \"\"\"        \n",
    "    # test angel is positive\n",
    "    if angle < 0:\n",
    "        raise ValueError(\"angel must be positive\")\n",
    "        \n",
    "    # rotate\n",
    "    return img.rotate(angle)"
   ]
  },
  {
   "cell_type": "code",
   "execution_count": 29,
   "metadata": {},
   "outputs": [],
   "source": [
    "def saveImageAsType(imgPath:str, img:Image.Image, newType:str) -> None:\n",
    "    \"\"\"\n",
    "    Method to save image with newType\n",
    "\n",
    "    Args:\n",
    "        imgPath (str): the path to save image\n",
    "        img (Image.Image): the image\n",
    "        newType (str): the new type - should be without '.' for example JPEG\n",
    "\n",
    "    Raises:\n",
    "        OSError: If the file could not be written. The file may have been created, and may contain partial data.\n",
    "        ValueError: If the output format could not be determined from the file name. Use the format option to solve this.\n",
    "        FileNotFoundError: [description]\n",
    "    \"\"\"\n",
    "\n",
    "    # convert image to new type\n",
    "    imgName:str = ''\n",
    "    imgType:str = ''\n",
    "    imgName, imgType = os.path.splitext(imgPath)\n",
    "    img.thumbnail(img.size)\n",
    "    img.save(imgName + '.' + newType, newType, quality=100)"
   ]
  },
  {
   "cell_type": "code",
   "execution_count": 30,
   "metadata": {},
   "outputs": [],
   "source": [
    "def replaceColorRangeInImage(imgPath:str, lowerLimit:List[int], upperLimit:List[int], newColor:List[int]) -> Image.Image:\n",
    "    \"\"\"\n",
    "    Method to swap HSV color range in image to new HSV color works on same image\n",
    "\n",
    "    Args:\n",
    "        imgPath (str): the path to image\n",
    "        lowerLimit (List[int]): an HSV list to represent for lower limit of color to swap for example [21, 39, 64]\n",
    "        upperLimit (List[int]): an HSV list to represent for upper limit of color to swap for example [40, 255, 255]\n",
    "        newColor (List[int]): an HSV list to represent the new color to swap to for example [255, 255, 255]\n",
    "    \"\"\"\n",
    "\n",
    "    # transform BGR image to HSV\n",
    "    image = cv.imread(imgPath) \n",
    "    hsv=cv.cvtColor(image, cv.COLOR_BGR2HSV)\n",
    "        \n",
    "    # find witch pixels to replace in image\n",
    "    mask = cv.inRange(hsv, np.array(lowerLimit), np.array(upperLimit))\n",
    "    image[mask>0] = newColor\n",
    "\n",
    "    # replace wanted color range to new color\n",
    "    cv.imwrite(imgPath, image)"
   ]
  },
  {
   "source": [
    "Next we will create a folder tree for our cleaned data:"
   ],
   "cell_type": "markdown",
   "metadata": {}
  },
  {
   "cell_type": "code",
   "execution_count": 31,
   "metadata": {},
   "outputs": [],
   "source": [
    "# empty old clean data\n",
    "if os.path.exists(\"clean-data\"):\n",
    "    shutil.rmtree(\"clean-data\")\n",
    "\n",
    "# create clean data folders\n",
    "os.mkdir(preProcessFolder + \"/clean-data\")\n",
    "os.mkdir(preProcessFolder + \"/clean-data/arab\")\n",
    "os.mkdir(preProcessFolder + \"/clean-data/modern-arab\")\n",
    "os.mkdir(preProcessFolder + \"/clean-data/modern-english\")\n",
    "os.mkdir(preProcessFolder + \"/clean-data/hebrew-cairo-geniza\")\n",
    "os.mkdir(preProcessFolder + \"/clean-data/hebrew-middle-ages\")\n",
    "os.mkdir(preProcessFolder + \"/clean-data/modern-hebrew\")\n",
    "os.mkdir(preProcessFolder + \"/clean-data/latin\")"
   ]
  },
  {
   "source": [
    "Lets start to preprocess with modern english data. Images need to be croped:"
   ],
   "cell_type": "markdown",
   "metadata": {}
  },
  {
   "cell_type": "code",
   "execution_count": 32,
   "metadata": {},
   "outputs": [
    {
     "output_type": "error",
     "ename": "NameError",
     "evalue": "name 'tqdm' is not defined",
     "traceback": [
      "\u001b[1;31m---------------------------------------------------------------------------\u001b[0m",
      "\u001b[1;31mNameError\u001b[0m                                 Traceback (most recent call last)",
      "\u001b[1;32m<ipython-input-32-20edda6d7609>\u001b[0m in \u001b[0;36m<module>\u001b[1;34m\u001b[0m\n\u001b[0;32m      1\u001b[0m \u001b[1;31m# clean each image in modern english folder\u001b[0m\u001b[1;33m\u001b[0m\u001b[1;33m\u001b[0m\u001b[1;33m\u001b[0m\u001b[0m\n\u001b[1;32m----> 2\u001b[1;33m \u001b[1;32mfor\u001b[0m \u001b[0mimgFile\u001b[0m \u001b[1;32min\u001b[0m \u001b[0mtqdm\u001b[0m\u001b[1;33m(\u001b[0m\u001b[0mos\u001b[0m\u001b[1;33m.\u001b[0m\u001b[0mlistdir\u001b[0m\u001b[1;33m(\u001b[0m\u001b[0menglishModern\u001b[0m\u001b[1;33m)\u001b[0m\u001b[1;33m)\u001b[0m\u001b[1;33m:\u001b[0m\u001b[1;33m\u001b[0m\u001b[1;33m\u001b[0m\u001b[0m\n\u001b[0m\u001b[0;32m      3\u001b[0m     \u001b[0mimgName\u001b[0m\u001b[1;33m:\u001b[0m\u001b[0mstr\u001b[0m\u001b[1;33m\u001b[0m\u001b[1;33m\u001b[0m\u001b[0m\n\u001b[0;32m      4\u001b[0m     \u001b[0mimgType\u001b[0m\u001b[1;33m:\u001b[0m\u001b[0mstr\u001b[0m\u001b[1;33m\u001b[0m\u001b[1;33m\u001b[0m\u001b[0m\n\u001b[0;32m      5\u001b[0m     \u001b[0mimgName\u001b[0m\u001b[1;33m,\u001b[0m \u001b[0mimgType\u001b[0m \u001b[1;33m=\u001b[0m \u001b[0mos\u001b[0m\u001b[1;33m.\u001b[0m\u001b[0mpath\u001b[0m\u001b[1;33m.\u001b[0m\u001b[0msplitext\u001b[0m\u001b[1;33m(\u001b[0m\u001b[0mimgFile\u001b[0m\u001b[1;33m)\u001b[0m\u001b[1;33m\u001b[0m\u001b[1;33m\u001b[0m\u001b[0m\n",
      "\u001b[1;31mNameError\u001b[0m: name 'tqdm' is not defined"
     ]
    }
   ],
   "source": [
    "# clean each image in modern english folder\n",
    "for imgFile in tqdm(os.listdir(englishModern)):\n",
    "    imgName:str\n",
    "    imgType:str\n",
    "    imgName, imgType = os.path.splitext(imgFile)\n",
    "                \n",
    "    # full path of image\n",
    "    imgFullPath:str = englishModern + \"/\" + imgFile\n",
    "                \n",
    "    # path to save finished processed image\n",
    "    imgNewFullPath:str = preProcessFolder + \"/clean-data/modern-english/\" + imgName + '.png'\n",
    "\n",
    "    # open image\n",
    "    img: Image.Image = Image.open(imgFullPath)\n",
    "\n",
    "    # crop image\n",
    "    img = cropImage(img, 250, 700, 2220, 2100)\n",
    "\n",
    "    # save image as png\n",
    "    saveImageAsType(imgNewFullPath, img, 'png')"
   ]
  },
  {
   "source": [
    "Next we will pre process modern hebrew data.\n",
    "Images need to be rotated, croped, remove from yellow lines and change type to png:\n"
   ],
   "cell_type": "markdown",
   "metadata": {}
  },
  {
   "cell_type": "code",
   "execution_count": 33,
   "metadata": {},
   "outputs": [
    {
     "output_type": "error",
     "ename": "NameError",
     "evalue": "name 'tqdm' is not defined",
     "traceback": [
      "\u001b[1;31m---------------------------------------------------------------------------\u001b[0m",
      "\u001b[1;31mNameError\u001b[0m                                 Traceback (most recent call last)",
      "\u001b[1;32m<ipython-input-33-37a1869bc302>\u001b[0m in \u001b[0;36m<module>\u001b[1;34m\u001b[0m\n\u001b[0;32m      1\u001b[0m \u001b[1;31m# clean each image in modern hebrew folder\u001b[0m\u001b[1;33m\u001b[0m\u001b[1;33m\u001b[0m\u001b[1;33m\u001b[0m\u001b[0m\n\u001b[1;32m----> 2\u001b[1;33m \u001b[1;32mfor\u001b[0m \u001b[0mimgFile\u001b[0m \u001b[1;32min\u001b[0m \u001b[0mtqdm\u001b[0m\u001b[1;33m(\u001b[0m\u001b[0mos\u001b[0m\u001b[1;33m.\u001b[0m\u001b[0mlistdir\u001b[0m\u001b[1;33m(\u001b[0m\u001b[0mhebrewModern\u001b[0m\u001b[1;33m)\u001b[0m\u001b[1;33m)\u001b[0m\u001b[1;33m:\u001b[0m\u001b[1;33m\u001b[0m\u001b[1;33m\u001b[0m\u001b[0m\n\u001b[0m\u001b[0;32m      3\u001b[0m     \u001b[0mimgName\u001b[0m\u001b[1;33m:\u001b[0m\u001b[0mstr\u001b[0m\u001b[1;33m\u001b[0m\u001b[1;33m\u001b[0m\u001b[0m\n\u001b[0;32m      4\u001b[0m     \u001b[0mimgType\u001b[0m\u001b[1;33m:\u001b[0m\u001b[0mstr\u001b[0m\u001b[1;33m\u001b[0m\u001b[1;33m\u001b[0m\u001b[0m\n\u001b[0;32m      5\u001b[0m     \u001b[0mimgName\u001b[0m\u001b[1;33m,\u001b[0m \u001b[0mimgType\u001b[0m \u001b[1;33m=\u001b[0m \u001b[0mos\u001b[0m\u001b[1;33m.\u001b[0m\u001b[0mpath\u001b[0m\u001b[1;33m.\u001b[0m\u001b[0msplitext\u001b[0m\u001b[1;33m(\u001b[0m\u001b[0mimgFile\u001b[0m\u001b[1;33m)\u001b[0m\u001b[1;33m\u001b[0m\u001b[1;33m\u001b[0m\u001b[0m\n",
      "\u001b[1;31mNameError\u001b[0m: name 'tqdm' is not defined"
     ]
    }
   ],
   "source": [
    "# clean each image in modern hebrew folder\n",
    "for imgFile in tqdm(os.listdir(hebrewModern)):\n",
    "    imgName:str\n",
    "    imgType:str\n",
    "    imgName, imgType = os.path.splitext(imgFile)\n",
    "                \n",
    "    # full path of image\n",
    "    imgFullPath:str = hebrewModern + \"/\" + imgFile\n",
    "                \n",
    "    # path to save finished processed image\n",
    "    imgNewFullPath:str = preProcessFolder + \"/clean-data/modern-hebrew/\" + imgName + '.png'\n",
    "\n",
    "    # open image\n",
    "    img: Image.Image = Image.open(imgFullPath)\n",
    "        \n",
    "    # rotate image\n",
    "    img = rotateImage(img, 180)\n",
    "\n",
    "    # crop image\n",
    "    img = cropImage(img, 360, 1990, 4000, 2800)\n",
    "\n",
    "    # save image as png\n",
    "    saveImageAsType(imgNewFullPath, img, 'png')\n",
    "\n",
    "    # remove yellow pixels save in pre processed folder\n",
    "    replaceColorRangeInImage(imgNewFullPath, [21, 39, 64], [40, 255, 255], [255,255,255])\n"
   ]
  },
  {
   "source": [
    "Next we will pre process modern arac data.\n",
    "Images need a change of type to png:"
   ],
   "cell_type": "markdown",
   "metadata": {}
  },
  {
   "cell_type": "code",
   "execution_count": 34,
   "metadata": {},
   "outputs": [
    {
     "output_type": "error",
     "ename": "NameError",
     "evalue": "name 'tqdm' is not defined",
     "traceback": [
      "\u001b[1;31m---------------------------------------------------------------------------\u001b[0m",
      "\u001b[1;31mNameError\u001b[0m                                 Traceback (most recent call last)",
      "\u001b[1;32m<ipython-input-34-1605ebda389d>\u001b[0m in \u001b[0;36m<module>\u001b[1;34m\u001b[0m\n\u001b[0;32m      1\u001b[0m \u001b[1;31m# clean each image in modern arab folder\u001b[0m\u001b[1;33m\u001b[0m\u001b[1;33m\u001b[0m\u001b[1;33m\u001b[0m\u001b[0m\n\u001b[1;32m----> 2\u001b[1;33m \u001b[1;32mfor\u001b[0m \u001b[0mimgFile\u001b[0m \u001b[1;32min\u001b[0m \u001b[0mtqdm\u001b[0m\u001b[1;33m(\u001b[0m\u001b[0mos\u001b[0m\u001b[1;33m.\u001b[0m\u001b[0mlistdir\u001b[0m\u001b[1;33m(\u001b[0m\u001b[0marabModern\u001b[0m\u001b[1;33m)\u001b[0m\u001b[1;33m)\u001b[0m\u001b[1;33m:\u001b[0m\u001b[1;33m\u001b[0m\u001b[1;33m\u001b[0m\u001b[0m\n\u001b[0m\u001b[0;32m      3\u001b[0m     \u001b[0mimgName\u001b[0m\u001b[1;33m:\u001b[0m\u001b[0mstr\u001b[0m\u001b[1;33m\u001b[0m\u001b[1;33m\u001b[0m\u001b[0m\n\u001b[0;32m      4\u001b[0m     \u001b[0mimgType\u001b[0m\u001b[1;33m:\u001b[0m\u001b[0mstr\u001b[0m\u001b[1;33m\u001b[0m\u001b[1;33m\u001b[0m\u001b[0m\n\u001b[0;32m      5\u001b[0m     \u001b[0mimgName\u001b[0m\u001b[1;33m,\u001b[0m \u001b[0mimgType\u001b[0m \u001b[1;33m=\u001b[0m \u001b[0mos\u001b[0m\u001b[1;33m.\u001b[0m\u001b[0mpath\u001b[0m\u001b[1;33m.\u001b[0m\u001b[0msplitext\u001b[0m\u001b[1;33m(\u001b[0m\u001b[0mimgFile\u001b[0m\u001b[1;33m)\u001b[0m\u001b[1;33m\u001b[0m\u001b[1;33m\u001b[0m\u001b[0m\n",
      "\u001b[1;31mNameError\u001b[0m: name 'tqdm' is not defined"
     ]
    }
   ],
   "source": [
    "# clean each image in modern arab folder\n",
    "for imgFile in tqdm(os.listdir(arabModern)):\n",
    "    imgName:str\n",
    "    imgType:str\n",
    "    imgName, imgType = os.path.splitext(imgFile)\n",
    "                \n",
    "    # full path of image\n",
    "    imgFullPath:str = arabModern + \"/\" + imgFile\n",
    "                \n",
    "    # path to save finished processed image\n",
    "    imgNewFullPath:str = preProcessFolder + \"/clean-data/modern-arab/\" + imgName + '.png'\n",
    "\n",
    "    # open image\n",
    "    img: Image.Image = Image.open(imgFullPath)\n",
    "        \n",
    "    # save image as png\n",
    "    saveImageAsType(imgNewFullPath, img, 'png')\n",
    "\n",
    "    # remove yellow pixels save in pre processed folder\n",
    "    replaceColorRangeInImage(imgNewFullPath, [21, 39, 64], [40, 255, 255], [255,255,255])"
   ]
  }
 ]
}